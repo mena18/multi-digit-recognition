{
 "cells": [
  {
   "cell_type": "markdown",
   "metadata": {},
   "source": [
    "# import all libiraries"
   ]
  },
  {
   "cell_type": "code",
   "execution_count": 1,
   "metadata": {},
   "outputs": [
    {
     "name": "stderr",
     "output_type": "stream",
     "text": [
      "Using TensorFlow backend.\n"
     ]
    }
   ],
   "source": [
    "import numpy as np\n",
    "import matplotlib.pyplot as plt\n",
    "import sklearn\n",
    "from keras.datasets import mnist\n",
    "from keras.utils import to_categorical\n",
    "import cv2"
   ]
  },
  {
   "cell_type": "markdown",
   "metadata": {},
   "source": [
    "# loading the model and the weights"
   ]
  },
  {
   "cell_type": "code",
   "execution_count": 2,
   "metadata": {},
   "outputs": [],
   "source": [
    "(x_train, y_train), (x_test, y_test) = mnist.load_data()\n",
    "x_train = x_train.reshape(-1,28,28,1);y_train = to_categorical(y_train)\n",
    "x_test = x_test.reshape(-1,28,28,1);y_test = to_categorical(y_test)\n",
    "\n",
    "x_train = x_train.astype('float32') / 255\n",
    "x_test = x_test.astype('float32') / 255\n",
    "\n",
    "x_val = x_train[50000:]\n",
    "y_val = y_train[50000:]\n",
    "x_train = x_train[:50000]\n",
    "y_train = y_train[:50000]"
   ]
  },
  {
   "cell_type": "markdown",
   "metadata": {},
   "source": [
    "###  this is CNN i trained before on the mnist data so i am using it again"
   ]
  },
  {
   "cell_type": "code",
   "execution_count": 4,
   "metadata": {},
   "outputs": [],
   "source": [
    "from keras.models import model_from_json\n",
    "\n",
    "with open('model.json','r') as m:\n",
    "    model = model_from_json(m.read())\n",
    "\n",
    "\n",
    "model.compile(optimizer='adam',\n",
    "              loss='categorical_crossentropy',\n",
    "              metrics=['accuracy'])\n",
    "\n",
    "model.load_weights('model.h5')"
   ]
  },
  {
   "cell_type": "code",
   "execution_count": 5,
   "metadata": {},
   "outputs": [
    {
     "name": "stdout",
     "output_type": "stream",
     "text": [
      "10000/10000 [==============================] - 60s 6ms/step\n"
     ]
    },
    {
     "data": {
      "text/plain": [
       "[0.005450835164331147, 0.9984]"
      ]
     },
     "execution_count": 5,
     "metadata": {},
     "output_type": "execute_result"
    }
   ],
   "source": [
    "model.evaluate(x_test,y_test)"
   ]
  },
  {
   "cell_type": "code",
   "execution_count": 6,
   "metadata": {},
   "outputs": [
    {
     "name": "stdout",
     "output_type": "stream",
     "text": [
      "_________________________________________________________________\n",
      "Layer (type)                 Output Shape              Param #   \n",
      "=================================================================\n",
      "conv2d_1 (Conv2D)            (None, 26, 26, 32)        320       \n",
      "_________________________________________________________________\n",
      "batch_normalization_1 (Batch (None, 26, 26, 32)        128       \n",
      "_________________________________________________________________\n",
      "conv2d_2 (Conv2D)            (None, 24, 24, 32)        9248      \n",
      "_________________________________________________________________\n",
      "batch_normalization_2 (Batch (None, 24, 24, 32)        128       \n",
      "_________________________________________________________________\n",
      "conv2d_3 (Conv2D)            (None, 12, 12, 32)        25632     \n",
      "_________________________________________________________________\n",
      "batch_normalization_3 (Batch (None, 12, 12, 32)        128       \n",
      "_________________________________________________________________\n",
      "dropout_1 (Dropout)          (None, 12, 12, 32)        0         \n",
      "_________________________________________________________________\n",
      "conv2d_4 (Conv2D)            (None, 10, 10, 64)        18496     \n",
      "_________________________________________________________________\n",
      "batch_normalization_4 (Batch (None, 10, 10, 64)        256       \n",
      "_________________________________________________________________\n",
      "conv2d_5 (Conv2D)            (None, 8, 8, 64)          36928     \n",
      "_________________________________________________________________\n",
      "batch_normalization_5 (Batch (None, 8, 8, 64)          256       \n",
      "_________________________________________________________________\n",
      "conv2d_6 (Conv2D)            (None, 4, 4, 64)          102464    \n",
      "_________________________________________________________________\n",
      "batch_normalization_6 (Batch (None, 4, 4, 64)          256       \n",
      "_________________________________________________________________\n",
      "dropout_2 (Dropout)          (None, 4, 4, 64)          0         \n",
      "_________________________________________________________________\n",
      "conv2d_7 (Conv2D)            (None, 1, 1, 128)         131200    \n",
      "_________________________________________________________________\n",
      "batch_normalization_7 (Batch (None, 1, 1, 128)         512       \n",
      "_________________________________________________________________\n",
      "flatten_1 (Flatten)          (None, 128)               0         \n",
      "_________________________________________________________________\n",
      "dropout_3 (Dropout)          (None, 128)               0         \n",
      "_________________________________________________________________\n",
      "dense_1 (Dense)              (None, 10)                1290      \n",
      "=================================================================\n",
      "Total params: 327,242\n",
      "Trainable params: 326,410\n",
      "Non-trainable params: 832\n",
      "_________________________________________________________________\n"
     ]
    }
   ],
   "source": [
    "model.summary()"
   ]
  },
  {
   "cell_type": "markdown",
   "metadata": {},
   "source": [
    "# Testing the model for one digit image "
   ]
  },
  {
   "cell_type": "code",
   "execution_count": 135,
   "metadata": {
    "scrolled": true
   },
   "outputs": [
    {
     "name": "stdout",
     "output_type": "stream",
     "text": [
      "[[2.1532664e-17 3.5282521e-09 1.1295463e-05 3.4357366e-09 6.3797363e-11\n",
      "  1.3664557e-10 1.8958515e-14 4.7963586e-13 9.9998868e-01 6.1618717e-11]]\n",
      "8\n"
     ]
    },
    {
     "data": {
      "image/png": "[encoded data removed]",
      "text/plain": [
       "<Figure size 432x288 with 1 Axes>"
      ]
     },
     "metadata": {},
     "output_type": "display_data"
    }
   ],
   "source": [
    "img = cv2.imread(\"images/number.jpg\")\n",
    "img = cv2.resize(img, (28,28), interpolation = cv2.INTER_AREA)\n",
    "\n",
    "im_gray = cv2.cvtColor(img, cv2.COLOR_BGR2GRAY)\n",
    "im_gray = cv2.GaussianBlur(im_gray, (3, 3), 0)\n",
    "#ret, im_th = cv2.threshold(im_gray, 60, 255, cv2.THRESH_BINARY_INV)\n",
    "\n",
    "im_th = cv2.adaptiveThreshold(im_gray,255,cv2.ADAPTIVE_THRESH_MEAN_C,cv2.THRESH_BINARY_INV,9,7)\n",
    "\n",
    "plt.imshow(im_th.reshape(28,28))\n",
    "#cv2.imwrite('images/new_image_for_testing.jpg',img)\n",
    "    \n",
    "    \n",
    "prediction = model.predict((im_th.astype('float32') / 255).reshape(-1,28,28,1))\n",
    "print(prediction)\n",
    "print(np.argmax(prediction))"
   ]
  },
  {
   "cell_type": "markdown",
   "metadata": {},
   "source": [
    "# Testing on multidigit images"
   ]
  },
  {
   "cell_type": "code",
   "execution_count": 199,
   "metadata": {},
   "outputs": [
    {
     "name": "stdout",
     "output_type": "stream",
     "text": [
      "6\n",
      "(201, 419)\n"
     ]
    },
    {
     "data": {
      "text/plain": [
       "True"
      ]
     },
     "execution_count": 199,
     "metadata": {},
     "output_type": "execute_result"
    },
    {
     "data": {
      "image/png": "[encoded data removed]",
      "text/plain": [
       "<Figure size 432x288 with 6 Axes>"
      ]
     },
     "metadata": {},
     "output_type": "display_data"
    }
   ],
   "source": [
    "img = cv2.imread(\"images/image.jpg\")\n",
    "\n",
    "im_gray = cv2.cvtColor(img, cv2.COLOR_BGR2GRAY)\n",
    "im_gray = cv2.GaussianBlur(im_gray, (3, 3), 0)\n",
    "im_th = cv2.adaptiveThreshold(im_gray,255,cv2.ADAPTIVE_THRESH_MEAN_C,cv2.THRESH_BINARY_INV,9,7)\n",
    "\n",
    "\n",
    "c,ctrs, hier = cv2.findContours(im_th.copy(), cv2.RETR_EXTERNAL, cv2.CHAIN_APPROX_SIMPLE)\n",
    "    \n",
    "rects = [cv2.boundingRect(ctr) for ctr in ctrs]    \n",
    "\n",
    "\n",
    "j=1\n",
    "print(len(rects))\n",
    "print(im_th.shape)\n",
    "for rect in rects:\n",
    "    plt.subplot(1,len(rects),j)\n",
    "    pred_img = im_th[rect[1]-4:(rect[1]+ rect[3]),rect[0]-4:(rect[0]+ rect[2])]\n",
    "    pred_img = cv2.resize(pred_img,(28,28))\n",
    "    \n",
    "    \n",
    "    pred_img = cv2.GaussianBlur(pred_img, (3, 3), 0)\n",
    "    ret, pred_img = cv2.threshold(pred_img, 127, 255, cv2.THRESH_BINARY)\n",
    "    \n",
    "    \n",
    "    \n",
    "    img = cv2.rectangle(img, (rect[0], rect[1]), (rect[0] + rect[2], rect[1] + rect[3]), (0, 255, 0), 3)\n",
    "    prediction = model.predict((pred_img / 255).reshape(1,28,28,1))\n",
    "    #print(prediction)\n",
    "    #print(np.argmax(prediction))\n",
    "    plt.title(str(np.argmax(prediction)))\n",
    "    plt.imshow(pred_img)\n",
    "    j+=1\n",
    "\n",
    "cv2.imwrite('images2/rectangle_images.jpg',img)\n",
    "\n",
    "\n",
    "#prediction = model.predict((im_th.astype('float32') / 255).reshape(-1,28,28,1))\n",
    "#print(prediction)\n",
    "#print(np.argmax(prediction))"
   ]
  },
  {
   "cell_type": "markdown",
   "metadata": {},
   "source": [
    "#  Testing on multidigit images (2)"
   ]
  },
  {
   "cell_type": "code",
   "execution_count": 216,
   "metadata": {},
   "outputs": [
    {
     "name": "stdout",
     "output_type": "stream",
     "text": [
      "(169, 126, 80, 67)\n",
      "(23, 117, 62, 84)\n",
      "(347, 32, 46, 77)\n",
      "(232, 17, 52, 89)\n",
      "(122, 17, 48, 96)\n",
      "(15, 13, 58, 74)\n"
     ]
    },
    {
     "data": {
      "text/plain": [
       "True"
      ]
     },
     "execution_count": 216,
     "metadata": {},
     "output_type": "execute_result"
    }
   ],
   "source": [
    "img = cv2.imread(\"images/image.jpg\")\n",
    "\n",
    "im_gray = cv2.cvtColor(img, cv2.COLOR_BGR2GRAY)\n",
    "im_gray = cv2.GaussianBlur(im_gray, (3, 3), 0)\n",
    "im_th = cv2.adaptiveThreshold(im_gray,255,cv2.ADAPTIVE_THRESH_MEAN_C,cv2.THRESH_BINARY_INV,9,7)\n",
    "\n",
    "\n",
    "c,ctrs, hier = cv2.findContours(im_th.copy(), cv2.RETR_EXTERNAL, cv2.CHAIN_APPROX_SIMPLE)\n",
    "    \n",
    "rects = [cv2.boundingRect(ctr) for ctr in ctrs]    \n",
    "\n",
    "\n",
    "\n",
    "\n",
    "for rect in rects:\n",
    "    print(rect)\n",
    "    pred_img = im_th[rect[1]:(rect[1]+ rect[3]),rect[0]:(rect[0]+ rect[2])]\n",
    "    pred_img = cv2.resize(pred_img,(28,28))\n",
    "    \n",
    "    \n",
    "    pred_img = cv2.GaussianBlur(pred_img, (3, 3), 0)\n",
    "    ret, pred_img = cv2.threshold(pred_img, 127, 255, cv2.THRESH_BINARY)\n",
    "    \n",
    "    \n",
    "    \n",
    "    img = cv2.rectangle(img, (rect[0]-4, rect[1]-4), (rect[0] + rect[2]-4, rect[1] + rect[3]-4), (0, 255, 0), 1)\n",
    "    prediction = model.predict((pred_img / 255).reshape(1,28,28,1))\n",
    "    #print(prediction)\n",
    "    #print(np.argmax(prediction))\n",
    "    font = cv2.FONT_HERSHEY_SIMPLEX\n",
    "    img = cv2.putText(img,str(np.argmax(prediction)),(rect[0],rect[1]),font,0.7,(0,0,255),3 )\n",
    "    \n",
    "\n",
    "cv2.imwrite('images2/rectangle_images.jpg',img)\n",
    "\n",
    "\n",
    "#prediction = model.predict((im_th.astype('float32') / 255).reshape(-1,28,28,1))\n",
    "#print(prediction)\n",
    "#print(np.argmax(prediction))"
   ]
  },
  {
   "cell_type": "markdown",
   "metadata": {},
   "source": [
    "# testing 3 \n",
    "\n",
    "### fixing problem in the previous one"
   ]
  },
  {
   "cell_type": "code",
   "execution_count": 8,
   "metadata": {},
   "outputs": [
    {
     "name": "stdout",
     "output_type": "stream",
     "text": [
      "Number of digits :  16\n"
     ]
    },
    {
     "data": {
      "text/plain": [
       "True"
      ]
     },
     "execution_count": 8,
     "metadata": {},
     "output_type": "execute_result"
    }
   ],
   "source": [
    "from math import sqrt\n",
    "img = cv2.imread(\"images/image.jpg\")\n",
    "\n",
    "im_gray = cv2.cvtColor(img, cv2.COLOR_BGR2GRAY)\n",
    "im_gray = cv2.GaussianBlur(im_gray, (3, 3), 0)\n",
    "im_th = cv2.adaptiveThreshold(im_gray,255,cv2.ADAPTIVE_THRESH_MEAN_C,cv2.THRESH_BINARY_INV,9,7)\n",
    "\n",
    "\n",
    "c,ctrs, hier = cv2.findContours(im_th.copy(), cv2.RETR_EXTERNAL, cv2.CHAIN_APPROX_SIMPLE)\n",
    "    \n",
    "rects = [cv2.boundingRect(ctr) for ctr in ctrs]    \n",
    "\n",
    "\n",
    "print(\"Number of digits : \",len(rects))\n",
    "for rect in rects:\n",
    "    shift = int(sqrt(max(rect[3],rect[2])))\n",
    "    pred_img = im_th[rect[1]-shift:(rect[1]+ rect[3]+shift),rect[0]-shift:(rect[0]+ rect[2]+shift)]\n",
    "    pred_img = cv2.resize(pred_img,(28,28))\n",
    "    pred_img = pred_img/255.0\n",
    "\n",
    "    \n",
    "    img = cv2.rectangle(img, (rect[0]-shift, rect[1]-shift), (rect[0] + rect[2]+shift, rect[1] + rect[3]+shift), (0, 255, 0), 1)\n",
    "    prediction = model.predict(pred_img.reshape(1,28,28,1))\n",
    "    \n",
    "    \n",
    "\n",
    "    font = cv2.FONT_HERSHEY_SIMPLEX\n",
    "    img = cv2.putText(img,str(np.argmax(prediction)),(rect[0],rect[1]),font,0.7,(0,0,255),2 )\n",
    "    \n",
    "\n",
    "cv2.imwrite('images2/rectangle_images.jpg',img)\n",
    "\n",
    "\n"
   ]
  },
  {
   "cell_type": "markdown",
   "metadata": {},
   "source": [
    "# showing some training data"
   ]
  },
  {
   "cell_type": "markdown",
   "metadata": {},
   "source": [
    "### sohwing the data of the digit 6 to try to see why it's classified 5 sometimes"
   ]
  },
  {
   "cell_type": "code",
   "execution_count": 88,
   "metadata": {},
   "outputs": [
    {
     "data": {
      "image/png": "[encoded data removed]",
      "text/plain": [
       "<Figure size 432x288 with 25 Axes>"
      ]
     },
     "metadata": {},
     "output_type": "display_data"
    }
   ],
   "source": [
    "counter=1\n",
    "lis = np.zeros((25,28,28))\n",
    "for i in range(len(y_train)):\n",
    "    if(np.argmax(y_train[i])==6):\n",
    "        plt.subplot(5,5,counter)\n",
    "        plt.imshow(x_train[i].reshape(28,28))\n",
    "        lis[counter-1] = x_train[i].reshape(28,28)\n",
    "        counter+=1\n",
    "        if(counter==26):\n",
    "            break"
   ]
  },
  {
   "cell_type": "markdown",
   "metadata": {},
   "source": [
    "### sohwing the data of the digit 7 to try to see why it's classified 1 sometimes"
   ]
  },
  {
   "cell_type": "code",
   "execution_count": 59,
   "metadata": {},
   "outputs": [
    {
     "data": {
      "image/png": "[encoded data removed]",
      "text/plain": [
       "<Figure size 432x288 with 25 Axes>"
      ]
     },
     "metadata": {},
     "output_type": "display_data"
    }
   ],
   "source": [
    "counter=1\n",
    "lis = np.zeros((25,28,28))\n",
    "for i in range(len(y_train)):\n",
    "    if(np.argmax(y_train[i])==7):\n",
    "        plt.subplot(5,5,counter)\n",
    "        plt.imshow(x_train[i].reshape(28,28))\n",
    "        lis[counter-1] = x_train[i].reshape(28,28)\n",
    "        counter+=1\n",
    "        if(counter==26):\n",
    "            break"
   ]
  },
  {
   "cell_type": "markdown",
   "metadata": {},
   "source": [
    "### sohwing the data of the digit 9 to try to see why it's classified 7 sometimes"
   ]
  },
  {
   "cell_type": "code",
   "execution_count": 55,
   "metadata": {},
   "outputs": [
    {
     "data": {
      "image/png": "[encoded data removed]",
      "text/plain": [
       "<Figure size 432x288 with 25 Axes>"
      ]
     },
     "metadata": {},
     "output_type": "display_data"
    }
   ],
   "source": [
    "counter=1\n",
    "for i in range(len(y_train)):\n",
    "    if(np.argmax(y_train[i])==9):\n",
    "        plt.subplot(5,5,counter)\n",
    "        plt.imshow(x_train[i].reshape(28,28))\n",
    "        counter+=1\n",
    "        if(counter==26):\n",
    "            break"
   ]
  },
  {
   "cell_type": "code",
   "execution_count": 84,
   "metadata": {},
   "outputs": [
    {
     "name": "stdout",
     "output_type": "stream",
     "text": [
      "9 [0. 0. 0. 0. 0. 0. 0. 0. 0. 1.]\n"
     ]
    },
    {
     "data": {
      "image/png": "[encoded data removed]",
      "text/plain": [
       "<Figure size 432x288 with 1 Axes>"
      ]
     },
     "metadata": {},
     "output_type": "display_data"
    }
   ],
   "source": [
    "index=12\n",
    "predict = model.predict(x_test[index].reshape(-1,28,28,1))\n",
    "ans = y_test[index]\n",
    "\n",
    "\n",
    "plt.imshow(x_test[index].reshape(28,28))\n",
    "print(np.argmax(predict),ans)"
   ]
  }
 ],
 "metadata": {
  "kernelspec": {
   "display_name": "Python 3",
   "language": "python",
   "name": "python3"
  },
  "language_info": {
   "codemirror_mode": {
    "name": "ipython",
    "version": 3
   },
   "file_extension": ".py",
   "mimetype": "text/x-python",
   "name": "python",
   "nbconvert_exporter": "python",
   "pygments_lexer": "ipython3",
   "version": "3.6.5"
  }
 },
 "nbformat": 4,
 "nbformat_minor": 2
}
